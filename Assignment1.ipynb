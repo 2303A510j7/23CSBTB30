{
  "nbformat": 4,
  "nbformat_minor": 0,
  "metadata": {
    "colab": {
      "provenance": [],
      "authorship_tag": "ABX9TyMk2TN7TNnPjpT5zp1Sz9++",
      "include_colab_link": true
    },
    "kernelspec": {
      "name": "python3",
      "display_name": "Python 3"
    },
    "language_info": {
      "name": "python"
    }
  },
  "cells": [
    {
      "cell_type": "markdown",
      "metadata": {
        "id": "view-in-github",
        "colab_type": "text"
      },
      "source": [
        "<a href=\"https://colab.research.google.com/github/2303A510j7/23CSBTB30/blob/main/Assignment1.ipynb\" target=\"_parent\"><img src=\"https://colab.research.google.com/assets/colab-badge.svg\" alt=\"Open In Colab\"/></a>"
      ]
    },
    {
      "cell_type": "code",
      "execution_count": 1,
      "metadata": {
        "colab": {
          "base_uri": "https://localhost:8080/"
        },
        "id": "vOdZDgVB7gnA",
        "outputId": "4b1c0448-1a4b-4665-8cd5-be15c0222d2f"
      },
      "outputs": [
        {
          "output_type": "stream",
          "name": "stdout",
          "text": [
            "     SID        Name    Course   ContactNO\n",
            "0   2113    Sharanya       CSE  7733264578\n",
            "1   2286    sathvika       EEE  8889501236\n",
            "2   1123     sravani    ECE-DS  7723451289\n",
            "3   1330    akshitha       CSE  6302265123\n",
            "4   2112     manohar       CSE  6302267674\n",
            "5   1035      moksha       CSE  8899663316\n",
            "6   1043   bhavishya        IT  7981929483\n",
            "7   2030      Nihith    CSE-DS  7382861808\n",
            "8   2286      Rohith       ECE  7780608719\n",
            "9   1023       Sneha       CSE  6308868169\n",
            "10  2259  navya sree     CIVIL  9988234167\n",
            "11  2295      Nithya   Biotech  7382841356\n",
            "12  1234     Goutham    CSE-CS  8899761452\n",
            "13  1145     abhiram  CSE-AIDS  7766558811\n",
            "14  2238     shivani       CSE  9949123143\n",
            "15  2256        ajay  ECE-AIML  6301123456\n",
            "16  2367      akshay  CSE-AIML  6789123456\n",
            "17  2134    sushanth      MECH  9876543210\n",
            "18  2289       sohel       CSE  8976543091\n",
            "19  2109     rithvik   Biotech  7754321890\n"
          ]
        }
      ],
      "source": [
        "import pandas as pd\n",
        "data=pd.read_csv(\"/content/AIML.csv\")\n",
        "print(data)"
      ]
    },
    {
      "cell_type": "code",
      "source": [
        "import pandas as pd\n",
        "data=pd.read_csv(\"/content/heart.csv\")\n",
        "print(data)"
      ],
      "metadata": {
        "colab": {
          "base_uri": "https://localhost:8080/"
        },
        "id": "P1t5ic5k8y88",
        "outputId": "782adbe1-5021-4370-f5e2-fc03a276fe18"
      },
      "execution_count": 2,
      "outputs": [
        {
          "output_type": "stream",
          "name": "stdout",
          "text": [
            "      age  sex  cp  trestbps  chol  fbs  restecg  thalach  exang  oldpeak  \\\n",
            "0      52    1   0       125   212    0        1      168      0      1.0   \n",
            "1      53    1   0       140   203    1        0      155      1      3.1   \n",
            "2      70    1   0       145   174    0        1      125      1      2.6   \n",
            "3      61    1   0       148   203    0        1      161      0      0.0   \n",
            "4      62    0   0       138   294    1        1      106      0      1.9   \n",
            "...   ...  ...  ..       ...   ...  ...      ...      ...    ...      ...   \n",
            "1020   59    1   1       140   221    0        1      164      1      0.0   \n",
            "1021   60    1   0       125   258    0        0      141      1      2.8   \n",
            "1022   47    1   0       110   275    0        0      118      1      1.0   \n",
            "1023   50    0   0       110   254    0        0      159      0      0.0   \n",
            "1024   54    1   0       120   188    0        1      113      0      1.4   \n",
            "\n",
            "      slope  ca  thal  target  \n",
            "0         2   2     3       0  \n",
            "1         0   0     3       0  \n",
            "2         0   0     3       0  \n",
            "3         2   1     3       0  \n",
            "4         1   3     2       0  \n",
            "...     ...  ..   ...     ...  \n",
            "1020      2   0     2       1  \n",
            "1021      1   1     3       0  \n",
            "1022      1   1     2       0  \n",
            "1023      2   0     2       1  \n",
            "1024      1   1     3       0  \n",
            "\n",
            "[1025 rows x 14 columns]\n"
          ]
        }
      ]
    },
    {
      "cell_type": "code",
      "source": [
        "import pandas as pd\n",
        "data=pd.read_csv(\"/content/games_dataset.csv\")\n",
        "print(data)"
      ],
      "metadata": {
        "colab": {
          "base_uri": "https://localhost:8080/"
        },
        "id": "IL003B4q8_ID",
        "outputId": "89e9ed12-7ac5-4d91-b672-270ef6fd13ef"
      },
      "execution_count": 3,
      "outputs": [
        {
          "output_type": "stream",
          "name": "stdout",
          "text": [
            "                                    Game Name       Genre         Platform  \\\n",
            "0                   Sekiro: Shadows Die Twice      Sports  Nintendo Switch   \n",
            "1                                     Control      Puzzle  Nintendo Switch   \n",
            "2                                    Among Us    Strategy  Nintendo Switch   \n",
            "3                Call of Duty: Modern Warfare     Stealth      PlayStation   \n",
            "4                           League of Legends  Simulation               PC   \n",
            "...                                       ...         ...              ...   \n",
            "4995  The Legend of Zelda: Breath of the Wild      Sports               PC   \n",
            "4996                Assassin's Creed Valhalla     Stealth           Mobile   \n",
            "4997             Fall Guys: Ultimate Knockout      Sports           Mobile   \n",
            "4998                            Borderlands 3  Platformer             Xbox   \n",
            "4999         Counter-Strike: Global Offensive      Action      PlayStation   \n",
            "\n",
            "      Release Year  User Rating  \n",
            "0             2014     9.654719  \n",
            "1             2000     3.457386  \n",
            "2             2007     5.367622  \n",
            "3             2005     1.240325  \n",
            "4             2021     3.535476  \n",
            "...            ...          ...  \n",
            "4995          2013     6.352838  \n",
            "4996          2020     1.852730  \n",
            "4997          2021     5.268067  \n",
            "4998          2018     4.558510  \n",
            "4999          2022     3.443231  \n",
            "\n",
            "[5000 rows x 5 columns]\n"
          ]
        }
      ]
    }
  ]
}